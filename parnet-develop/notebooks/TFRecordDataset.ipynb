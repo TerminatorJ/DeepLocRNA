{
 "cells": [
  {
   "cell_type": "code",
   "execution_count": null,
   "metadata": {},
   "outputs": [],
   "source": [
    "from rbpnet import io"
   ]
  },
  {
   "cell_type": "code",
   "execution_count": null,
   "metadata": {},
   "outputs": [],
   "source": [
    "dataset = io.dataset_ops.load_tfrecord('../example/data.matrix/windows.chr13.4.data.matrix.filtered.tfrecord', deserialize=False)\n",
    "features = io.dataset_ops.features_from_json_file('../example/data.matrix/windows.chr13.4.data.matrix.filtered.tfrecord.features.json')"
   ]
  },
  {
   "cell_type": "code",
   "execution_count": null,
   "metadata": {},
   "outputs": [],
   "source": [
    "features.deserialize_example(proto)"
   ]
  },
  {
   "cell_type": "code",
   "execution_count": null,
   "metadata": {},
   "outputs": [],
   "source": [
    "torch.gather(torch.rand(8, 3, 4), dim=0, index=torch.tensor([0, 1, 7]))"
   ]
  },
  {
   "cell_type": "code",
   "execution_count": null,
   "metadata": {},
   "outputs": [],
   "source": [
    "torch.rand(5, 3, 4)[torch.tensor([True, False, True, False, False]), :, :].shape"
   ]
  },
  {
   "cell_type": "code",
   "execution_count": null,
   "metadata": {},
   "outputs": [],
   "source": [
    "proto_samples = [proto for proto in dataset.as_numpy_iterator()]"
   ]
  },
  {
   "cell_type": "code",
   "execution_count": null,
   "metadata": {},
   "outputs": [],
   "source": [
    "len(proto_samples)"
   ]
  },
  {
   "cell_type": "code",
   "execution_count": null,
   "metadata": {},
   "outputs": [],
   "source": [
    "import torch\n",
    "import tensorflow as tf\n",
    "from torch.utils.data import Dataset, DataLoader\n",
    "\n",
    "class TFRecordDataset(Dataset):\n",
    "    def __init__(self, filepath, features_filepath=None):\n",
    "        self._tf_dataset = io.dataset_ops.load_tfrecord(filepath, deserialize=False)\n",
    "        self._serialized_protos = [proto for proto in self._tf_dataset.as_numpy_iterator()]\n",
    "\n",
    "        # deserialize\n",
    "        if features_filepath is None:\n",
    "            features_filepath = filepath + '.features.json'\n",
    "        self.features = io.dataset_ops.features_from_json_file(features_filepath)\n",
    "\n",
    "    def __len__(self):\n",
    "        return len(self._serialized_protos)\n",
    "\n",
    "    def __getitem__(self, idx):\n",
    "        example = self.features.deserialize_example(self._serialized_protos[idx])\n",
    "        example = (example['inputs'], example['outputs'])\n",
    "        example = tf.nest.map_structure(lambda x: torch.tensor(x.numpy()).to(torch.float32), example)\n",
    "        return example"
   ]
  },
  {
   "cell_type": "code",
   "execution_count": null,
   "metadata": {},
   "outputs": [],
   "source": []
  },
  {
   "cell_type": "code",
   "execution_count": null,
   "metadata": {},
   "outputs": [],
   "source": [
    "dataset = TFRecordDataset('../example/data.matrix/windows.chr13.4.data.matrix.filtered.tfrecord')\n",
    "dataset"
   ]
  },
  {
   "cell_type": "code",
   "execution_count": null,
   "metadata": {},
   "outputs": [],
   "source": [
    "example = dataset[2]\n",
    "example"
   ]
  },
  {
   "cell_type": "code",
   "execution_count": null,
   "metadata": {},
   "outputs": [],
   "source": [
    "dataloader = DataLoader(dataset, batch_size=128, num_workers=8)"
   ]
  },
  {
   "cell_type": "code",
   "execution_count": null,
   "metadata": {},
   "outputs": [],
   "source": [
    "for batch in dataloader:\n",
    "    _ = batch"
   ]
  },
  {
   "cell_type": "code",
   "execution_count": null,
   "metadata": {},
   "outputs": [],
   "source": [
    "from torchrbpnet.data import tfrecord_to_dataloader\n",
    "\n",
    "for batch in tfrecord_to_dataloader('../example/data.matrix/windows.chr13.4.data.matrix.filtered.tfrecord'):\n",
    "    _ = batch"
   ]
  },
  {
   "cell_type": "code",
   "execution_count": null,
   "metadata": {},
   "outputs": [],
   "source": [
    "mask_HepG2 = list()\n",
    "with open('../example/experiments.txt') as f:\n",
    "    for line in f:\n",
    "        symbol, cell = line.strip().split('_')\n",
    "\n",
    "        indicator = False\n",
    "        if cell == 'HepG2':\n",
    "            indicator = True\n",
    "        mask_HepG2.append(indicator)\n",
    "mask_HepG2 = torch.tensor(mask_HepG2)\n",
    "torch.save(mask_HepG2, 'experiment-mask.HepG2.pt')"
   ]
  },
  {
   "cell_type": "code",
   "execution_count": null,
   "metadata": {},
   "outputs": [],
   "source": []
  },
  {
   "cell_type": "code",
   "execution_count": null,
   "metadata": {},
   "outputs": [],
   "source": [
    "mask_K562 = list()\n",
    "with open('../example/experiments.txt') as f:\n",
    "    for line in f:\n",
    "        symbol, cell = line.strip().split('_')\n",
    "\n",
    "        indicator = False\n",
    "        if cell == 'K562':\n",
    "            indicator = True\n",
    "        mask_K562.append(indicator)\n",
    "mask_K562 = torch.tensor(mask_K562)\n",
    "torch.save(mask_K562, 'experiment-mask.K562.pt')"
   ]
  },
  {
   "cell_type": "code",
   "execution_count": null,
   "metadata": {},
   "outputs": [],
   "source": [
    "mask_unique_ENCODE_prefer_HepG2 = list()\n",
    "visited = set()\n",
    "with open('../example/experiments.txt') as f:\n",
    "    for line in f:\n",
    "        symbol, cell = line.strip().split('_')\n",
    "\n",
    "        indicator = False\n",
    "        if symbol not in visited:\n",
    "            indicator = True\n",
    "            visited.add(symbol)\n",
    "        print(symbol, indicator)\n",
    "        mask_unique_ENCODE_prefer_HepG2.append(indicator)\n",
    "\n",
    "mask_unique_ENCODE_prefer_HepG2 = torch.tensor(mask_unique_ENCODE_prefer_HepG2)\n",
    "print(torch.sum(mask_unique_ENCODE_prefer_HepG2))\n",
    "torch.save(mask_unique_ENCODE_prefer_HepG2, 'experiment-mask.ENCODE-150.prioritize-HepG2.pt')"
   ]
  },
  {
   "cell_type": "code",
   "execution_count": null,
   "metadata": {},
   "outputs": [],
   "source": []
  },
  {
   "cell_type": "code",
   "execution_count": null,
   "metadata": {},
   "outputs": [],
   "source": [
    "mask = mask_unique_ENCODE_prefer_HepG2\n",
    "mask"
   ]
  },
  {
   "cell_type": "code",
   "execution_count": null,
   "metadata": {},
   "outputs": [],
   "source": [
    "mask.shape"
   ]
  },
  {
   "cell_type": "code",
   "execution_count": null,
   "metadata": {},
   "outputs": [],
   "source": [
    "indices = torch.arange(0, 223)\n",
    "print(indices.shape)\n",
    "print(indices.dtype)"
   ]
  },
  {
   "cell_type": "code",
   "execution_count": null,
   "metadata": {},
   "outputs": [],
   "source": [
    "selected_indices = torch.masked_select(indices, mask)\n",
    "selected_indices"
   ]
  },
  {
   "cell_type": "code",
   "execution_count": null,
   "metadata": {},
   "outputs": [],
   "source": []
  },
  {
   "cell_type": "code",
   "execution_count": null,
   "metadata": {},
   "outputs": [],
   "source": [
    "torch.sum(torch.nn.functional.one_hot(selected_indices, 233), axis=0)"
   ]
  },
  {
   "cell_type": "code",
   "execution_count": null,
   "metadata": {},
   "outputs": [],
   "source": [
    "mask.shape"
   ]
  },
  {
   "cell_type": "code",
   "execution_count": null,
   "metadata": {},
   "outputs": [],
   "source": [
    "def sample_positives_from_mask(boolean_mask, n):\n",
    "    assert len(boolean_mask.shape) == 1\n",
    "    positive_indices = torch.masked_select(torch.arange(0, len(boolean_mask)), mask)\n",
    "    return torch.multinomial(positive_indices.to(torch.float32), n, replacement=False).to(torch.int64)\n",
    "\n",
    "sample = sample_positives_from_mask(mask, 10)\n",
    "sample"
   ]
  },
  {
   "cell_type": "code",
   "execution_count": null,
   "metadata": {},
   "outputs": [],
   "source": [
    "def indices_to_mask(indices, depth):\n",
    "    return torch.sum(torch.nn.functional.one_hot(indices, depth), dim=0).to(torch.bool)\n",
    "\n",
    "print(indices_to_mask(sample, depth=223))\n",
    "print(torch.logical_not(indices_to_mask(sample, depth=223)))"
   ]
  },
  {
   "cell_type": "code",
   "execution_count": null,
   "metadata": {},
   "outputs": [],
   "source": []
  },
  {
   "cell_type": "code",
   "execution_count": null,
   "metadata": {},
   "outputs": [],
   "source": [
    "idx2symbol_cell = dict()\n",
    "with open('../example/experiments.txt') as f:\n",
    "    for i, line in enumerate(f):\n",
    "        symbol, cell = line.strip().split('_')\n",
    "        idx2symbol_cell[i] = (symbol, cell)\n",
    "torch.save(idx2symbol_cell, 'ENCODE.idx2symbol-cell.pt')"
   ]
  },
  {
   "cell_type": "code",
   "execution_count": null,
   "metadata": {},
   "outputs": [],
   "source": [
    "sum(mask_unique_ENCODE_prefer_HepG2)"
   ]
  },
  {
   "cell_type": "code",
   "execution_count": null,
   "metadata": {},
   "outputs": [],
   "source": [
    "example = next(iter(tfrecord_to_dataloader('../example/data.matrix/windows.chr13.4.data.matrix.filtered.tfrecord', batch_size=16)))"
   ]
  },
  {
   "cell_type": "code",
   "execution_count": null,
   "metadata": {},
   "outputs": [],
   "source": [
    "example[1][:, :, mask_K562].shape"
   ]
  },
  {
   "cell_type": "code",
   "execution_count": null,
   "metadata": {},
   "outputs": [],
   "source": [
    "torch.logical_and()"
   ]
  },
  {
   "cell_type": "code",
   "execution_count": null,
   "metadata": {},
   "outputs": [],
   "source": [
    "class TFIterableDataset(torch.utils.data.IterableDataset):\n",
    "    def __init__(self, filepath, features_filepath=None, batch_size=64, cache=True, shuffle=None):\n",
    "        super(TFIterableDataset).__init__()\n",
    "        \n",
    "        # load tfrecord file and create tf.data pipeline \n",
    "        self.dataset = self._load_dataset(filepath, features_filepath, batch_size, cache, shuffle)\n",
    "\n",
    "    def _load_dataset(self, filepath, features_filepath=None, batch_size=64, cache=True, shuffle=None):\n",
    "        # no not serialize - only after shuffle/cache \n",
    "        dataset = io.dataset_ops.load_tfrecord(filepath, deserialize=False)\n",
    "        if cache:\n",
    "            dataset = dataset.cache()\n",
    "        if shuffle:\n",
    "            dataset = dataset.shuffle(shuffle)\n",
    "\n",
    "        # deserialize proto to example\n",
    "        if features_filepath is None:\n",
    "            features_filepath = filepath + '.features.json'\n",
    "        self.features = io.dataset_ops.features_from_json_file(features_filepath)\n",
    "        dataset = io.dataset_ops.deserialize_dataset(dataset, self.features)\n",
    "\n",
    "        # batch & prefetch\n",
    "        dataset = dataset.batch(batch_size)\n",
    "        dataset = dataset.prefetch(tf.data.AUTOTUNE)\n",
    "\n",
    "        # format example & prefetch\n",
    "        dataset = dataset.map(self._format_example, num_parallel_calls=tf.data.AUTOTUNE)\n",
    "        dataset = dataset.prefetch(tf.data.AUTOTUNE)\n",
    "        \n",
    "        return dataset\n",
    "    \n",
    "    def _format_example(self, example):\n",
    "        # move channel dim from -1 to -2\n",
    "        # example['inputs']['input'] = tf.transpose(example['inputs']['input'], perm=[0, 2, 1])\n",
    "        # example['outputs']['signal']['total'] = tf.transpose(example['outputs']['signal']['total'], perm=[0, 2, 1])\n",
    "\n",
    "        example = {\n",
    "            'inputs': {\n",
    "                'sequence': tf.transpose(example['inputs']['input'], perm=[0, 2, 1])},\n",
    "            'outputs': {\n",
    "                'total': tf.transpose(example['outputs']['signal']['total'], perm=[0, 2, 1]),\n",
    "                'control': tf.transpose(example['outputs']['signal']['control'], perm=[0, 2, 1]),\n",
    "            },\n",
    "        }\n",
    "\n",
    "        # return (input: Tensor, output: Tensor)\n",
    "        return example\n",
    "    \n",
    "    def process_example(self, example):\n",
    "        return example\n",
    "    \n",
    "    def _to_pytorch_compatible(self, example):\n",
    "        return tf.nest.map_structure(lambda x: torch.tensor(x).to(torch.float32), example)\n",
    "\n",
    "    def __iter__(self):\n",
    "        for example in self.dataset.as_numpy_iterator():\n",
    "            processed_pytorch_example = self._to_pytorch_compatible(self.process_example(example))\n",
    "            yield processed_pytorch_example['inputs'], processed_pytorch_example['outputs']"
   ]
  },
  {
   "cell_type": "code",
   "execution_count": null,
   "metadata": {},
   "outputs": [],
   "source": [
    "class MaskedTFIterableDataset(TFIterableDataset):\n",
    "    def __init__(self, masks=None, **kwargs):\n",
    "        super(MaskedTFIterableDataset, self).__init__(**kwargs)\n",
    "        self.composite_mask = None\n",
    "        if masks is not None:\n",
    "            self.composite_mask = self._make_composite_mask(masks)\n",
    "\n",
    "    def _make_composite_mask(self, masks):\n",
    "        composite_mask = masks[0]\n",
    "        for mask in masks[1:]:\n",
    "            composite_mask = torch.logical_and(composite_mask, mask)\n",
    "        return composite_mask\n",
    "    \n",
    "    def mask_structure(self, structure, mask):\n",
    "        return tf.nest.map_structure(lambda tensor: tensor[:, :, mask], structure)\n",
    "\n",
    "    def process_example(self, example):\n",
    "        if self.composite_mask is not None:\n",
    "            example['outputs'] = self.mask_structure(example['outputs'], self.composite_mask)\n",
    "        return example"
   ]
  },
  {
   "cell_type": "code",
   "execution_count": null,
   "metadata": {},
   "outputs": [],
   "source": [
    "class MeanESMEmbeddingMaskedTFIterableDataset(MaskedTFIterableDataset):\n",
    "    def __init__(self, embedding_matrix_filepath, masks=None, **kwargs):\n",
    "        super(MeanESMEmbeddingMaskedTFIterableDataset, self).__init__(masks, **kwargs)\n",
    "        self.embedding_matrix = torch.load(embedding_matrix_filepath)\n",
    "    \n",
    "    def process_example(self, example):\n",
    "        # add protein embedding to inputs\n",
    "        example['inputs']['embedding'] = self.embedding_matrix[self.composite_mask] if self.composite_mask is not None else self.embedding_matrix\n",
    "        if self.composite_mask is not None:\n",
    "            example['outputs'] = self.mask_structure(example['outputs'], self.composite_mask)\n",
    "        return example"
   ]
  },
  {
   "cell_type": "code",
   "execution_count": null,
   "metadata": {},
   "outputs": [],
   "source": [
    "mask_HepG2 = torch.load('experiment-mask.HepG2.pt')\n",
    "# idx2esm = torch.load('../example/esm2_t33_650M_UR50D.ENCODE.idx2mean.pt')\n",
    "# idx2esm.shape\n",
    "\n",
    "esm_masked_dataset = MeanESMEmbeddingMaskedTFIterableDataset(embedding_matrix_filepath='../example/esm2_t33_650M_UR50D.ENCODE.idx2mean.pt', masks=[mask_HepG2], filepath='../example/data.matrix/windows.chr13.4.data.matrix.filtered.tfrecord')\n",
    "# esm_masked_dataset = MeanESMEmbeddingMaskedTFIterableDataset(embedding_matrix_filepath='../example/esm2_t33_650M_UR50D.ENCODE.idx2mean.pt', filepath='../example/data.matrix/windows.chr13.4.data.matrix.filtered.tfrecord')\n",
    "example = next(iter(esm_masked_dataset))\n",
    "print(example[0].keys())\n",
    "print(example[0]['embedding'].shape)\n",
    "print(example[1]['total'].shape)"
   ]
  },
  {
   "cell_type": "code",
   "execution_count": null,
   "metadata": {},
   "outputs": [],
   "source": []
  },
  {
   "cell_type": "code",
   "execution_count": null,
   "metadata": {},
   "outputs": [],
   "source": [
    "mask_HepG2 = torch.load('experiment-mask.HepG2.pt')\n",
    "\n",
    "masked_dataset = MaskedTFIterableDataset(masks=[mask_HepG2], filepath='../example/data.matrix/windows.chr13.4.data.matrix.filtered.tfrecord')\n",
    "example = next(iter(masked_dataset))\n",
    "example[1]['total'].shape"
   ]
  },
  {
   "cell_type": "code",
   "execution_count": null,
   "metadata": {},
   "outputs": [],
   "source": [
    "example = next(iter(TFIterableDataset('../example/data.matrix/windows.chr13.4.data.matrix.filtered.tfrecord')))\n",
    "example[1]['control'].shape"
   ]
  },
  {
   "cell_type": "code",
   "execution_count": null,
   "metadata": {},
   "outputs": [],
   "source": [
    "example[1]"
   ]
  },
  {
   "cell_type": "code",
   "execution_count": null,
   "metadata": {},
   "outputs": [],
   "source": [
    "# torch.tensor('abc'.encode('UTF-8'), dtype=torch.uint8)"
   ]
  },
  {
   "cell_type": "code",
   "execution_count": null,
   "metadata": {},
   "outputs": [],
   "source": [
    "# int.from_bytes('abc'.encode('UTF-8'), byteorder='big')"
   ]
  },
  {
   "cell_type": "code",
   "execution_count": null,
   "metadata": {},
   "outputs": [],
   "source": [
    "idx2esm = torch.load('../example/esm2_t33_650M_UR50D.ENCODE.idx2mean.pt')\n",
    "idx2esm.shape"
   ]
  },
  {
   "cell_type": "code",
   "execution_count": null,
   "metadata": {},
   "outputs": [],
   "source": [
    "idx2esm[mask_HepG2].shape"
   ]
  },
  {
   "cell_type": "code",
   "execution_count": null,
   "metadata": {},
   "outputs": [],
   "source": [
    "idx2esm.shape"
   ]
  },
  {
   "cell_type": "code",
   "execution_count": null,
   "metadata": {},
   "outputs": [],
   "source": []
  },
  {
   "cell_type": "code",
   "execution_count": null,
   "metadata": {},
   "outputs": [],
   "source": []
  },
  {
   "cell_type": "code",
   "execution_count": null,
   "metadata": {},
   "outputs": [],
   "source": [
    "len(torch.load('experiment-mask.HepG2.pt'))"
   ]
  },
  {
   "cell_type": "code",
   "execution_count": null,
   "metadata": {},
   "outputs": [],
   "source": [
    "y = example[1]\n",
    "y.shape"
   ]
  },
  {
   "cell_type": "code",
   "execution_count": null,
   "metadata": {},
   "outputs": [],
   "source": [
    "import torchmetrics\n",
    "\n",
    "class BatchedPCC(torchmetrics.MeanMetric):\n",
    "    def __init__(self, min_height=2, min_count=None):\n",
    "        super(BatchedPCC, self).__init__()\n",
    "\n",
    "        self.min_height = min_height\n",
    "        self.min_count = min_count\n",
    "\n",
    "    def update(self, y_pred: torch.Tensor, y: torch.Tensor):\n",
    "        if y_pred.shape != y.shape:\n",
    "            raise ValueError('shapes y_pred {y_pred.shape} and y {y.shape} are not the same. ')\n",
    "\n",
    "        mean_pcc = self._compute_mean_pcc(y_pred, y)\n",
    "\n",
    "        # update\n",
    "        super().update(mean_pcc)\n",
    "\n",
    "    def _compute_mean_pcc(self, y_pred: torch.Tensor, y: torch.Tensor):\n",
    "        values = []\n",
    "        for i in range(y.shape[0]):\n",
    "            values.append(torchmetrics.functional.pearson_corrcoef(y[i], y_pred[i]))\n",
    "        # stack to (batch_size x ...) - at this point the shape should be (batch_size x experiments\n",
    "        values = torch.stack(values)\n",
    "\n",
    "        # create boolean tensor of entries that are *not* NaNs\n",
    "        values_is_not_nan_mask = torch.logical_not(torch.isnan(values))\n",
    "        # convert nan's to 0\n",
    "        values = torch.nan_to_num(values, 0.0)\n",
    "\n",
    "        # check if required height is reached per experiment\n",
    "        if self.min_height is not None:\n",
    "            # should be shape (batch_size, experiments)\n",
    "            y_min_height_mask = (torch.max(y, dim=-2).values >= self.min_height)\n",
    "        else:\n",
    "            y_min_height_mask = torch.ones(*values.shape)\n",
    "        \n",
    "        # check if required count is reached per experiment\n",
    "        if self.min_count is not None:\n",
    "            # should be shape (batch_size, experiments)\n",
    "            y_min_count_mask = (torch.sum(y, dim=-2) >= self.min_count)\n",
    "        else:\n",
    "            y_min_count_mask = torch.ones(*values.shape)\n",
    "        \n",
    "        # boolean mask indicating which experiment (in each batch) passed nan, heigh and count (and is thus used for the final mean PCC)\n",
    "        passed_boolean_mask = torch.sum(torch.stack([values_is_not_nan_mask, y_min_height_mask, y_min_count_mask]), dim=0) > 0\n",
    "\n",
    "        # mask out (i.e. zero) all PCC values that did not pass\n",
    "        values_masked = torch.mul(values, passed_boolean_mask.to(torch.float32))\n",
    "\n",
    "        # compute mean by only dividing by #-elements that passed\n",
    "        values_mean = torch.sum(values_masked)/torch.sum(passed_boolean_mask)\n",
    "\n",
    "        # if ignore_nan:\n",
    "        #     # only divide by #-elements not NaN\n",
    "        #     values_mean = torch.sum(values)/torch.sum(values_is_not_nan)\n",
    "        # else:\n",
    "        #     values_mean = torch.mean(values)\n",
    "        \n",
    "        return values_mean\n",
    "\n",
    "\n",
    "m = BatchedPCC(min_height=2, min_count=5)\n",
    "m(torch.rand(*y.shape), y)"
   ]
  },
  {
   "cell_type": "code",
   "execution_count": null,
   "metadata": {},
   "outputs": [],
   "source": [
    "torch.max(torch.rand(2, 2, 3), dim=-1).values"
   ]
  },
  {
   "cell_type": "code",
   "execution_count": null,
   "metadata": {},
   "outputs": [],
   "source": [
    "torch.ones(2, 3)"
   ]
  },
  {
   "cell_type": "code",
   "execution_count": null,
   "metadata": {},
   "outputs": [],
   "source": []
  },
  {
   "cell_type": "code",
   "execution_count": null,
   "metadata": {},
   "outputs": [],
   "source": []
  },
  {
   "cell_type": "code",
   "execution_count": null,
   "metadata": {},
   "outputs": [],
   "source": []
  },
  {
   "cell_type": "code",
   "execution_count": null,
   "metadata": {},
   "outputs": [],
   "source": [
    "example[0]['embedding'].shape"
   ]
  },
  {
   "cell_type": "code",
   "execution_count": null,
   "metadata": {},
   "outputs": [],
   "source": [
    "torch.nn.Linear(in_features=1280, out_features=256)(example[0]['embedding']).shape"
   ]
  },
  {
   "cell_type": "code",
   "execution_count": null,
   "metadata": {},
   "outputs": [],
   "source": []
  },
  {
   "cell_type": "code",
   "execution_count": null,
   "metadata": {},
   "outputs": [],
   "source": [
    "import torch.nn as nn\n",
    "\n",
    "from torchrbpnet.layers import Conv1DFirstLayer, Conv1DResBlock, LinearProjection\n",
    "\n",
    "class ProteinEmbeddingMultiRBPNet(nn.Module):\n",
    "    def __init__(self, n_tasks, n_layers=9, n_body_filters=256):\n",
    "        super(ProteinEmbeddingMultiRBPNet, self).__init__()\n",
    "\n",
    "        self.n_tasks = n_tasks\n",
    "\n",
    "        # layers RNA\n",
    "        self.body = nn.Sequential(*[Conv1DFirstLayer(4, n_body_filters, 6)]+[(Conv1DResBlock(n_body_filters, n_body_filters, dilation=(2**i))) for i in range(n_layers)])\n",
    "        self.rna_projection = nn.Linear(in_features=n_body_filters, out_features=256, bias=False)\n",
    "\n",
    "        # layers protein\n",
    "        self.protein_projection = nn.Linear(in_features=1280, out_features=256, bias=False)\n",
    "\n",
    "    def forward(self, inputs, **kwargs):\n",
    "        # forward RNA\n",
    "        x_r = inputs['sequence']\n",
    "        for layer in self.body:\n",
    "            x_r = layer(x_r)\n",
    "        # transpose: # (batch_size, dim, N) --> (batch_size, N, dim)\n",
    "        x_r = torch.transpose(x_r, dim0=-2, dim1=-1)\n",
    "        # project: (batch_size, N, dim) --> (batch_size, N, new_dim)\n",
    "        x_r = self.rna_projection(x_r)\n",
    "        \n",
    "        # forward protein\n",
    "        x_p = inputs['embedding']\n",
    "        x_p = self.protein_projection(x_p)\n",
    "        # x_r: (#proteins, dim)\n",
    "\n",
    "        # transpose representations for matmul\n",
    "        # x_r = torch.transpose(x_r, dim0=-2, dim1=-1) # (batch_size, N, dim)\n",
    "        x_p = torch.transpose(x_p, dim0=1, dim1=0) # (dim, #proteins)\n",
    "        \n",
    "        return torch.matmul(x_r, x_p) # (batch_size, N, #proteins)\n",
    "\n",
    "network = ProteinEmbeddingMultiRBPNet(n_tasks=223)"
   ]
  },
  {
   "cell_type": "code",
   "execution_count": null,
   "metadata": {},
   "outputs": [],
   "source": [
    "y_pred = network(example[0])\n",
    "y_pred.shape"
   ]
  },
  {
   "cell_type": "code",
   "execution_count": null,
   "metadata": {},
   "outputs": [],
   "source": [
    "# y_pred = network(example[0])\n",
    "# print(y_pred[0].shape)\n",
    "# print(y_pred[1].shape)\n",
    "\n",
    "# y_pred_1_t = torch.transpose(y_pred[1], dim0=1, dim1=0)\n",
    "# y_pred_1_t.shape\n",
    "\n",
    "# y_pred_0_t = torch.transpose(y_pred[0], dim0=-2, dim1=0)\n",
    "# y_pred_0_t.shape"
   ]
  },
  {
   "cell_type": "code",
   "execution_count": null,
   "metadata": {},
   "outputs": [],
   "source": []
  },
  {
   "cell_type": "code",
   "execution_count": null,
   "metadata": {},
   "outputs": [],
   "source": []
  },
  {
   "cell_type": "code",
   "execution_count": null,
   "metadata": {},
   "outputs": [],
   "source": [
    "# from functorch import vmap"
   ]
  },
  {
   "cell_type": "code",
   "execution_count": null,
   "metadata": {},
   "outputs": [],
   "source": [
    "torch.matmul(y_pred_0_t, y_pred_1_t).shape"
   ]
  }
 ],
 "metadata": {
  "interpreter": {
   "hash": "7c2a629b5d736a8b2a3c0111829bdedfa4bd0b48e49067d38bd73bb54a8250f9"
  },
  "kernelspec": {
   "display_name": "Python 3.10.9 ('torch')",
   "language": "python",
   "name": "python3"
  },
  "language_info": {
   "codemirror_mode": {
    "name": "ipython",
    "version": 3
   },
   "file_extension": ".py",
   "mimetype": "text/x-python",
   "name": "python",
   "nbconvert_exporter": "python",
   "pygments_lexer": "ipython3",
   "version": "3.10.9"
  },
  "orig_nbformat": 4
 },
 "nbformat": 4,
 "nbformat_minor": 2
}
