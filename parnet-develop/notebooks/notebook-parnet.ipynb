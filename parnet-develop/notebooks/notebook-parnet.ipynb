{
 "cells": [
  {
   "cell_type": "code",
   "execution_count": 5,
   "metadata": {},
   "outputs": [],
   "source": [
    "import torch\n",
    "import torch.nn as nn\n",
    "import pytorch_lightning as pl\n",
    "\n",
    "import parnet"
   ]
  },
  {
   "cell_type": "code",
   "execution_count": 2,
   "metadata": {},
   "outputs": [
    {
     "data": {
      "text/plain": [
       "ParsedConfigFileIncludesAndImports(filename='../configs/config.gin', imports=['torch', 'pytorch_lightning', 'parnet.networks', 'parnet.layers', 'parnet.metrics'], includes=[])"
      ]
     },
     "execution_count": 2,
     "metadata": {},
     "output_type": "execute_result"
    }
   ],
   "source": [
    "import gin\n",
    "gin.enter_interactive_mode()\n",
    "\n",
    "@gin.configurable()\n",
    "def train(**kwargs):\n",
    "    pass\n",
    "\n",
    "gin.parse_config_file('../configs/config.gin')"
   ]
  },
  {
   "cell_type": "code",
   "execution_count": 3,
   "metadata": {},
   "outputs": [
    {
     "data": {
      "text/plain": [
       "PanRBPNet(\n",
       "  (stem): StemConv1D(\n",
       "    (conv1d): Conv1d(4, 256, kernel_size=(7,), stride=(1,), padding=same)\n",
       "    (batch_norm): BatchNorm1d(256, eps=1e-05, momentum=0.1, affine=True, track_running_stats=True)\n",
       "    (act): ReLU()\n",
       "  )\n",
       "  (body): Conv1DTower(\n",
       "    (tower): Sequential(\n",
       "      (0): Sequential(\n",
       "        (0): ResConv1DBlock(\n",
       "          (conv1d): Conv1d(256, 256, kernel_size=(4,), stride=(1,), padding=same)\n",
       "          (batch_norm): BatchNorm1d(256, eps=1e-05, momentum=0.1, affine=True, track_running_stats=True)\n",
       "          (act): ReLU()\n",
       "          (dropout): Dropout1d(p=0.25, inplace=False)\n",
       "        )\n",
       "        (1): ResConv1DBlock(\n",
       "          (conv1d): Conv1d(256, 256, kernel_size=(4,), stride=(1,), padding=same)\n",
       "          (batch_norm): BatchNorm1d(256, eps=1e-05, momentum=0.1, affine=True, track_running_stats=True)\n",
       "          (act): ReLU()\n",
       "          (dropout): Dropout1d(p=0.25, inplace=False)\n",
       "        )\n",
       "        (2): ResConv1DBlock(\n",
       "          (conv1d): Conv1d(256, 256, kernel_size=(4,), stride=(1,), padding=same)\n",
       "          (batch_norm): BatchNorm1d(256, eps=1e-05, momentum=0.1, affine=True, track_running_stats=True)\n",
       "          (act): ReLU()\n",
       "          (dropout): Dropout1d(p=0.25, inplace=False)\n",
       "        )\n",
       "        (3): ResConv1DBlock(\n",
       "          (conv1d): Conv1d(256, 256, kernel_size=(4,), stride=(1,), padding=same)\n",
       "          (batch_norm): BatchNorm1d(256, eps=1e-05, momentum=0.1, affine=True, track_running_stats=True)\n",
       "          (act): ReLU()\n",
       "          (dropout): Dropout1d(p=0.25, inplace=False)\n",
       "        )\n",
       "        (4): ResConv1DBlock(\n",
       "          (conv1d): Conv1d(256, 256, kernel_size=(4,), stride=(1,), padding=same, dilation=(2,))\n",
       "          (batch_norm): BatchNorm1d(256, eps=1e-05, momentum=0.1, affine=True, track_running_stats=True)\n",
       "          (act): ReLU()\n",
       "          (dropout): Dropout1d(p=0.25, inplace=False)\n",
       "        )\n",
       "        (5): ResConv1DBlock(\n",
       "          (conv1d): Conv1d(256, 256, kernel_size=(4,), stride=(1,), padding=same, dilation=(3,))\n",
       "          (batch_norm): BatchNorm1d(256, eps=1e-05, momentum=0.1, affine=True, track_running_stats=True)\n",
       "          (act): ReLU()\n",
       "          (dropout): Dropout1d(p=0.25, inplace=False)\n",
       "        )\n",
       "      )\n",
       "      (1): Sequential(\n",
       "        (0): ResConv1DBlock(\n",
       "          (conv1d): Conv1d(256, 384, kernel_size=(4,), stride=(1,), padding=same, dilation=(3,))\n",
       "          (batch_norm): BatchNorm1d(384, eps=1e-05, momentum=0.1, affine=True, track_running_stats=True)\n",
       "          (act): ReLU()\n",
       "          (dropout): Dropout1d(p=0.25, inplace=False)\n",
       "          (linear): Conv1d(256, 384, kernel_size=(1,), stride=(1,), bias=False)\n",
       "        )\n",
       "        (1): ResConv1DBlock(\n",
       "          (conv1d): Conv1d(384, 384, kernel_size=(4,), stride=(1,), padding=same, dilation=(4,))\n",
       "          (batch_norm): BatchNorm1d(384, eps=1e-05, momentum=0.1, affine=True, track_running_stats=True)\n",
       "          (act): ReLU()\n",
       "          (dropout): Dropout1d(p=0.25, inplace=False)\n",
       "        )\n",
       "        (2): ResConv1DBlock(\n",
       "          (conv1d): Conv1d(384, 384, kernel_size=(4,), stride=(1,), padding=same, dilation=(5,))\n",
       "          (batch_norm): BatchNorm1d(384, eps=1e-05, momentum=0.1, affine=True, track_running_stats=True)\n",
       "          (act): ReLU()\n",
       "          (dropout): Dropout1d(p=0.25, inplace=False)\n",
       "        )\n",
       "      )\n",
       "    )\n",
       "  )\n",
       "  (pointwise): Pointwise(\n",
       "    (pointwise): Conv1d(384, 128, kernel_size=(1,), stride=(1,), bias=False)\n",
       "    (act): ReLU()\n",
       "  )\n",
       "  (output): IndexEmbeddingOutput(\n",
       "    (conv1d): Conv1d(128, 223, kernel_size=(1,), stride=(1,))\n",
       "  )\n",
       ")"
      ]
     },
     "execution_count": 3,
     "metadata": {},
     "output_type": "execute_result"
    }
   ],
   "source": [
    "network = parnet.networks.PanRBPNet()\n",
    "network"
   ]
  },
  {
   "cell_type": "code",
   "execution_count": 4,
   "metadata": {},
   "outputs": [
    {
     "data": {
      "text/plain": [
       "IndexEmbeddingOutput(\n",
       "  (conv1d): Conv1d(128, 223, kernel_size=(1,), stride=(1,))\n",
       ")"
      ]
     },
     "execution_count": 4,
     "metadata": {},
     "output_type": "execute_result"
    }
   ],
   "source": [
    "list(network.children())[-1]"
   ]
  },
  {
   "cell_type": "code",
   "execution_count": null,
   "metadata": {},
   "outputs": [],
   "source": []
  },
  {
   "cell_type": "code",
   "execution_count": 5,
   "metadata": {},
   "outputs": [
    {
     "data": {
      "text/plain": [
       "Model(\n",
       "  (network): PanRBPNet(\n",
       "    (stem): StemConv1D(\n",
       "      (conv1d): Conv1d(4, 256, kernel_size=(7,), stride=(1,), padding=same)\n",
       "      (batch_norm): BatchNorm1d(256, eps=1e-05, momentum=0.1, affine=True, track_running_stats=True)\n",
       "      (act): ReLU()\n",
       "    )\n",
       "    (body): Conv1DTower(\n",
       "      (tower): Sequential(\n",
       "        (0): Sequential(\n",
       "          (0): ResConv1DBlock(\n",
       "            (conv1d): Conv1d(256, 256, kernel_size=(4,), stride=(1,), padding=same)\n",
       "            (batch_norm): BatchNorm1d(256, eps=1e-05, momentum=0.1, affine=True, track_running_stats=True)\n",
       "            (act): ReLU()\n",
       "            (dropout): Dropout1d(p=0.25, inplace=False)\n",
       "          )\n",
       "          (1): ResConv1DBlock(\n",
       "            (conv1d): Conv1d(256, 256, kernel_size=(4,), stride=(1,), padding=same)\n",
       "            (batch_norm): BatchNorm1d(256, eps=1e-05, momentum=0.1, affine=True, track_running_stats=True)\n",
       "            (act): ReLU()\n",
       "            (dropout): Dropout1d(p=0.25, inplace=False)\n",
       "          )\n",
       "          (2): ResConv1DBlock(\n",
       "            (conv1d): Conv1d(256, 256, kernel_size=(4,), stride=(1,), padding=same)\n",
       "            (batch_norm): BatchNorm1d(256, eps=1e-05, momentum=0.1, affine=True, track_running_stats=True)\n",
       "            (act): ReLU()\n",
       "            (dropout): Dropout1d(p=0.25, inplace=False)\n",
       "          )\n",
       "          (3): ResConv1DBlock(\n",
       "            (conv1d): Conv1d(256, 256, kernel_size=(4,), stride=(1,), padding=same)\n",
       "            (batch_norm): BatchNorm1d(256, eps=1e-05, momentum=0.1, affine=True, track_running_stats=True)\n",
       "            (act): ReLU()\n",
       "            (dropout): Dropout1d(p=0.25, inplace=False)\n",
       "          )\n",
       "          (4): ResConv1DBlock(\n",
       "            (conv1d): Conv1d(256, 256, kernel_size=(4,), stride=(1,), padding=same, dilation=(2,))\n",
       "            (batch_norm): BatchNorm1d(256, eps=1e-05, momentum=0.1, affine=True, track_running_stats=True)\n",
       "            (act): ReLU()\n",
       "            (dropout): Dropout1d(p=0.25, inplace=False)\n",
       "          )\n",
       "          (5): ResConv1DBlock(\n",
       "            (conv1d): Conv1d(256, 256, kernel_size=(4,), stride=(1,), padding=same, dilation=(3,))\n",
       "            (batch_norm): BatchNorm1d(256, eps=1e-05, momentum=0.1, affine=True, track_running_stats=True)\n",
       "            (act): ReLU()\n",
       "            (dropout): Dropout1d(p=0.25, inplace=False)\n",
       "          )\n",
       "        )\n",
       "        (1): Sequential(\n",
       "          (0): ResConv1DBlock(\n",
       "            (conv1d): Conv1d(256, 384, kernel_size=(4,), stride=(1,), padding=same, dilation=(3,))\n",
       "            (batch_norm): BatchNorm1d(384, eps=1e-05, momentum=0.1, affine=True, track_running_stats=True)\n",
       "            (act): ReLU()\n",
       "            (dropout): Dropout1d(p=0.25, inplace=False)\n",
       "            (linear): Conv1d(256, 384, kernel_size=(1,), stride=(1,), bias=False)\n",
       "          )\n",
       "          (1): ResConv1DBlock(\n",
       "            (conv1d): Conv1d(384, 384, kernel_size=(4,), stride=(1,), padding=same, dilation=(4,))\n",
       "            (batch_norm): BatchNorm1d(384, eps=1e-05, momentum=0.1, affine=True, track_running_stats=True)\n",
       "            (act): ReLU()\n",
       "            (dropout): Dropout1d(p=0.25, inplace=False)\n",
       "          )\n",
       "          (2): ResConv1DBlock(\n",
       "            (conv1d): Conv1d(384, 384, kernel_size=(4,), stride=(1,), padding=same, dilation=(5,))\n",
       "            (batch_norm): BatchNorm1d(384, eps=1e-05, momentum=0.1, affine=True, track_running_stats=True)\n",
       "            (act): ReLU()\n",
       "            (dropout): Dropout1d(p=0.25, inplace=False)\n",
       "          )\n",
       "        )\n",
       "      )\n",
       "    )\n",
       "    (pointwise): Pointwise(\n",
       "      (pointwise): Conv1d(384, 128, kernel_size=(1,), stride=(1,), bias=False)\n",
       "      (act): ReLU()\n",
       "    )\n",
       "    (output): IndexEmbeddingOutput(\n",
       "      (conv1d): Conv1d(128, 223, kernel_size=(1,), stride=(1,))\n",
       "    )\n",
       "  )\n",
       "  (loss_fn): ModuleDict(\n",
       "    (TRAIN): MultinomialNLLLossFromLogits()\n",
       "    (VAL): MultinomialNLLLossFromLogits()\n",
       "  )\n",
       "  (metrics): ModuleDict(\n",
       "    (TRAIN): ModuleDict(\n",
       "      (pcc): PearsonCorrCoeff()\n",
       "      (filtered_pcc): FilteredPearsonCorrCoeff()\n",
       "    )\n",
       "    (VAL): ModuleDict(\n",
       "      (pcc): PearsonCorrCoeff()\n",
       "      (filtered_pcc): FilteredPearsonCorrCoeff()\n",
       "    )\n",
       "  )\n",
       ")"
      ]
     },
     "execution_count": 5,
     "metadata": {},
     "output_type": "execute_result"
    }
   ],
   "source": [
    "from parnet.losses import MultinomialNLLLossFromLogits\n",
    "from parnet.metrics import PearsonCorrCoeff, FilteredPearsonCorrCoeff\n",
    "\n",
    "class Model(pl.LightningModule):\n",
    "    def __init__(self, network, _example_input=None, metrics=None, optimizer=torch.optim.Adam):\n",
    "        super().__init__()\n",
    "        self.network = network\n",
    "\n",
    "        # loss\n",
    "        self.loss_fn = nn.ModuleDict({\n",
    "            'TRAIN': MultinomialNLLLossFromLogits(dim=-1),\n",
    "            'VAL': MultinomialNLLLossFromLogits(dim=-1),\n",
    "        })\n",
    "        \n",
    "        # metrics\n",
    "        if metrics is None:\n",
    "            metrics = {}\n",
    "        self.metrics = nn.ModuleDict({\n",
    "            'TRAIN': nn.ModuleDict({name: metric() for name, metric in metrics.items()}),\n",
    "            'VAL': nn.ModuleDict({name: metric() for name, metric in metrics.items()}),\n",
    "        })\n",
    "        \n",
    "        # optimizer\n",
    "        self.optimizer_cls = optimizer\n",
    "    \n",
    "    def forward(self, *args, **kwargs):\n",
    "        return self.network(*args, **kwargs)\n",
    "\n",
    "    def configure_optimizers(self):\n",
    "        optimizer = self.optimizer_cls(self.parameters())\n",
    "        return optimizer\n",
    "\n",
    "    def on_train_start(self) -> None:\n",
    "        self.logger.experiment.add_graph(self.network, {'sequence': torch.rand(2, 4, 1000)})\n",
    "        return super().on_train_start()\n",
    "\n",
    "    def training_step(self, batch, batch_idx=None, **kwargs):\n",
    "        inputs, y = batch\n",
    "        y = y['total']\n",
    "        y_pred = self.forward(inputs)\n",
    "        # loss = self.loss_fn(y, y_pred)\n",
    "        loss = self.compute_and_log_loss(y, y_pred, partition='TRAIN')\n",
    "        self.compute_and_log_metics(y, y_pred, partition='TRAIN')\n",
    "        return loss\n",
    "\n",
    "    def validation_step(self, batch, batch_idx=None, **kwargs):\n",
    "        inputs, y = batch\n",
    "        y = y['total']\n",
    "        y_pred = self.forward(inputs)\n",
    "        self.compute_and_log_loss(y, y_pred, partition='VAL')\n",
    "        self.compute_and_log_metics(y, y_pred, partition='VAL')\n",
    "    \n",
    "    def compute_and_log_loss(self, y, y_pred, partition=None):\n",
    "        # on_step = False\n",
    "        # if partition == 'TRAIN':\n",
    "        #     on_step = True\n",
    "\n",
    "        loss = self.loss_fn[partition](y, y_pred)\n",
    "        self.log(f'{partition}/loss', loss, on_step=True, on_epoch=True, prog_bar=False)\n",
    "        return loss\n",
    "\n",
    "    def compute_and_log_metics(self, y, y_pred, partition=None):\n",
    "        # on_step = False\n",
    "        # if partition == 'TRAIN':\n",
    "        #     on_step = True\n",
    "\n",
    "        for name, metric in self.metrics[partition].items():\n",
    "            metric(y, y_pred)\n",
    "            self.log(f'{partition}/{name}', metric, on_step=True, on_epoch=True, prog_bar=False)\n",
    "\n",
    "model = Model(network, metrics={'pcc': PearsonCorrCoeff, 'filtered_pcc': FilteredPearsonCorrCoeff})\n",
    "model"
   ]
  },
  {
   "cell_type": "code",
   "execution_count": 6,
   "metadata": {},
   "outputs": [
    {
     "data": {
      "text/plain": [
       "<torch.utils.data.dataloader.DataLoader at 0x7f3fa51b1870>"
      ]
     },
     "execution_count": 6,
     "metadata": {},
     "output_type": "execute_result"
    }
   ],
   "source": [
    "dataloader = torch.utils.data.DataLoader(parnet.data.datasets.TFIterableDataset('../example/head.20.tfrecord', batch_size=4, shuffle=1_000_000), batch_size=None)\n",
    "dataloader"
   ]
  },
  {
   "cell_type": "code",
   "execution_count": 7,
   "metadata": {},
   "outputs": [
    {
     "data": {
      "text/plain": [
       "torch.Size([4, 223, 1000])"
      ]
     },
     "execution_count": 7,
     "metadata": {},
     "output_type": "execute_result"
    }
   ],
   "source": [
    "next(iter(dataloader))[1]['total'].shape"
   ]
  },
  {
   "cell_type": "code",
   "execution_count": 8,
   "metadata": {},
   "outputs": [
    {
     "name": "stderr",
     "output_type": "stream",
     "text": [
      "GPU available: True (cuda), used: False\n",
      "TPU available: False, using: 0 TPU cores\n",
      "IPU available: False, using: 0 IPUs\n",
      "HPU available: False, using: 0 HPUs\n",
      "/home/marc/miniconda3/envs/torch/lib/python3.10/site-packages/pytorch_lightning/trainer/setup.py:176: PossibleUserWarning: GPU available but not used. Set `accelerator` and `devices` using `Trainer(accelerator='gpu', devices=1)`.\n",
      "  rank_zero_warn(\n",
      "\n",
      "  | Name    | Type       | Params\n",
      "---------------------------------------\n",
      "0 | network | PanRBPNet  | 3.3 M \n",
      "1 | loss_fn | ModuleDict | 0     \n",
      "2 | metrics | ModuleDict | 0     \n",
      "---------------------------------------\n",
      "3.3 M     Trainable params\n",
      "0         Non-trainable params\n",
      "3.3 M     Total params\n",
      "13.352    Total estimated model params size (MB)\n",
      "/home/marc/miniconda3/envs/torch/lib/python3.10/site-packages/pytorch_lightning/loggers/tensorboard.py:188: UserWarning: Could not log computational graph to TensorBoard: The `model.example_input_array` attribute is not set or `input_array` was not given.\n",
      "  rank_zero_warn(\n"
     ]
    },
    {
     "name": "stdout",
     "output_type": "stream",
     "text": [
      "Sanity Checking DataLoader 0:   0%|          | 0/2 [00:00<?, ?it/s]"
     ]
    },
    {
     "name": "stderr",
     "output_type": "stream",
     "text": [
      "/home/marc/miniconda3/envs/torch/lib/python3.10/site-packages/pytorch_lightning/trainer/connectors/data_connector.py:224: PossibleUserWarning: The dataloader, val_dataloader 0, does not have many workers which may be a bottleneck. Consider increasing the value of the `num_workers` argument` (try 8 which is the number of cpus on this machine) in the `DataLoader` init to improve performance.\n",
      "  rank_zero_warn(\n",
      "/home/marc/miniconda3/envs/torch/lib/python3.10/site-packages/torch/nn/modules/conv.py:309: UserWarning: Using padding='same' with even kernel lengths and odd dilation may require a zero-padded copy of the input be created (Triggered internally at ../aten/src/ATen/native/Convolution.cpp:895.)\n",
      "  return F.conv1d(input, weight, bias, self.stride,\n"
     ]
    },
    {
     "name": "stdout",
     "output_type": "stream",
     "text": [
      "                                                                           "
     ]
    },
    {
     "name": "stderr",
     "output_type": "stream",
     "text": [
      "/home/marc/miniconda3/envs/torch/lib/python3.10/site-packages/pytorch_lightning/trainer/connectors/data_connector.py:224: PossibleUserWarning: The dataloader, train_dataloader, does not have many workers which may be a bottleneck. Consider increasing the value of the `num_workers` argument` (try 8 which is the number of cpus on this machine) in the `DataLoader` init to improve performance.\n",
      "  rank_zero_warn(\n"
     ]
    },
    {
     "name": "stdout",
     "output_type": "stream",
     "text": [
      "Epoch 9: : 10it [00:07,  1.35it/s, loss=1.17, v_num=]"
     ]
    },
    {
     "name": "stderr",
     "output_type": "stream",
     "text": [
      "`Trainer.fit` stopped: `max_epochs=10` reached.\n"
     ]
    },
    {
     "name": "stdout",
     "output_type": "stream",
     "text": [
      "Epoch 9: : 10it [00:07,  1.31it/s, loss=1.17, v_num=]\n"
     ]
    }
   ],
   "source": [
    "import datetime\n",
    "from pytorch_lightning import loggers as pl_loggers\n",
    "from pytorch_lightning import Trainer\n",
    "from pytorch_lightning.callbacks import ModelCheckpoint, EarlyStopping, RichProgressBar, LearningRateMonitor\n",
    "\n",
    "root_log_dir = f'logs/{datetime.datetime.now().strftime(\"%Y%m%d-%H%M%S\")}'\n",
    "loggers = [\n",
    "    pl_loggers.TensorBoardLogger(root_log_dir+'/tensorboard', name='', version='', log_graph=True),\n",
    "    # pl_loggers.CSVLogger(root_log_dir+'/tensorboard', name='', version=''),\n",
    "]\n",
    "\n",
    "checkpoint_callback = ModelCheckpoint(dirpath=f'{root_log_dir}/checkpoints', every_n_epochs=1, save_last=True)\n",
    "\n",
    "early_stop_callback = EarlyStopping(monitor=\"val/loss\", min_delta=0.00, patience=3, verbose=False, mode=\"min\")\n",
    "\n",
    "bar = RichProgressBar()\n",
    "\n",
    "trainer = pl.Trainer(default_root_dir=root_log_dir, max_epochs=10, logger=loggers, callbacks=[checkpoint_callback, LearningRateMonitor('step', log_momentum=True)], log_every_n_steps=1)\n",
    "trainer.fit(model=model, train_dataloaders=dataloader, val_dataloaders=dataloader)\n",
    "torch.save(model.network, 'test.pt')"
   ]
  },
  {
   "cell_type": "code",
   "execution_count": 9,
   "metadata": {},
   "outputs": [
    {
     "data": {
      "text/plain": [
       "PanRBPNet(\n",
       "  (stem): StemConv1D(\n",
       "    (conv1d): Conv1d(4, 256, kernel_size=(7,), stride=(1,), padding=same)\n",
       "    (batch_norm): BatchNorm1d(256, eps=1e-05, momentum=0.1, affine=True, track_running_stats=True)\n",
       "    (act): ReLU()\n",
       "  )\n",
       "  (body): Conv1DTower(\n",
       "    (tower): Sequential(\n",
       "      (0): Sequential(\n",
       "        (0): ResConv1DBlock(\n",
       "          (conv1d): Conv1d(256, 256, kernel_size=(4,), stride=(1,), padding=same)\n",
       "          (batch_norm): BatchNorm1d(256, eps=1e-05, momentum=0.1, affine=True, track_running_stats=True)\n",
       "          (act): ReLU()\n",
       "          (dropout): Dropout1d(p=0.25, inplace=False)\n",
       "        )\n",
       "        (1): ResConv1DBlock(\n",
       "          (conv1d): Conv1d(256, 256, kernel_size=(4,), stride=(1,), padding=same)\n",
       "          (batch_norm): BatchNorm1d(256, eps=1e-05, momentum=0.1, affine=True, track_running_stats=True)\n",
       "          (act): ReLU()\n",
       "          (dropout): Dropout1d(p=0.25, inplace=False)\n",
       "        )\n",
       "        (2): ResConv1DBlock(\n",
       "          (conv1d): Conv1d(256, 256, kernel_size=(4,), stride=(1,), padding=same)\n",
       "          (batch_norm): BatchNorm1d(256, eps=1e-05, momentum=0.1, affine=True, track_running_stats=True)\n",
       "          (act): ReLU()\n",
       "          (dropout): Dropout1d(p=0.25, inplace=False)\n",
       "        )\n",
       "        (3): ResConv1DBlock(\n",
       "          (conv1d): Conv1d(256, 256, kernel_size=(4,), stride=(1,), padding=same)\n",
       "          (batch_norm): BatchNorm1d(256, eps=1e-05, momentum=0.1, affine=True, track_running_stats=True)\n",
       "          (act): ReLU()\n",
       "          (dropout): Dropout1d(p=0.25, inplace=False)\n",
       "        )\n",
       "        (4): ResConv1DBlock(\n",
       "          (conv1d): Conv1d(256, 256, kernel_size=(4,), stride=(1,), padding=same, dilation=(2,))\n",
       "          (batch_norm): BatchNorm1d(256, eps=1e-05, momentum=0.1, affine=True, track_running_stats=True)\n",
       "          (act): ReLU()\n",
       "          (dropout): Dropout1d(p=0.25, inplace=False)\n",
       "        )\n",
       "        (5): ResConv1DBlock(\n",
       "          (conv1d): Conv1d(256, 256, kernel_size=(4,), stride=(1,), padding=same, dilation=(3,))\n",
       "          (batch_norm): BatchNorm1d(256, eps=1e-05, momentum=0.1, affine=True, track_running_stats=True)\n",
       "          (act): ReLU()\n",
       "          (dropout): Dropout1d(p=0.25, inplace=False)\n",
       "        )\n",
       "      )\n",
       "      (1): Sequential(\n",
       "        (0): ResConv1DBlock(\n",
       "          (conv1d): Conv1d(256, 384, kernel_size=(4,), stride=(1,), padding=same, dilation=(3,))\n",
       "          (batch_norm): BatchNorm1d(384, eps=1e-05, momentum=0.1, affine=True, track_running_stats=True)\n",
       "          (act): ReLU()\n",
       "          (dropout): Dropout1d(p=0.25, inplace=False)\n",
       "          (linear): Conv1d(256, 384, kernel_size=(1,), stride=(1,), bias=False)\n",
       "        )\n",
       "        (1): ResConv1DBlock(\n",
       "          (conv1d): Conv1d(384, 384, kernel_size=(4,), stride=(1,), padding=same, dilation=(4,))\n",
       "          (batch_norm): BatchNorm1d(384, eps=1e-05, momentum=0.1, affine=True, track_running_stats=True)\n",
       "          (act): ReLU()\n",
       "          (dropout): Dropout1d(p=0.25, inplace=False)\n",
       "        )\n",
       "        (2): ResConv1DBlock(\n",
       "          (conv1d): Conv1d(384, 384, kernel_size=(4,), stride=(1,), padding=same, dilation=(5,))\n",
       "          (batch_norm): BatchNorm1d(384, eps=1e-05, momentum=0.1, affine=True, track_running_stats=True)\n",
       "          (act): ReLU()\n",
       "          (dropout): Dropout1d(p=0.25, inplace=False)\n",
       "        )\n",
       "      )\n",
       "    )\n",
       "  )\n",
       "  (pointwise): Pointwise(\n",
       "    (pointwise): Conv1d(384, 128, kernel_size=(1,), stride=(1,), bias=False)\n",
       "    (act): ReLU()\n",
       "  )\n",
       "  (output): IndexEmbeddingOutput(\n",
       "    (conv1d): Conv1d(128, 223, kernel_size=(1,), stride=(1,))\n",
       "  )\n",
       ")"
      ]
     },
     "execution_count": 9,
     "metadata": {},
     "output_type": "execute_result"
    }
   ],
   "source": [
    "net = torch.load('test.pt')\n",
    "net"
   ]
  },
  {
   "cell_type": "code",
   "execution_count": null,
   "metadata": {},
   "outputs": [],
   "source": []
  },
  {
   "cell_type": "code",
   "execution_count": null,
   "metadata": {},
   "outputs": [],
   "source": []
  },
  {
   "cell_type": "code",
   "execution_count": 10,
   "metadata": {},
   "outputs": [
    {
     "name": "stdout",
     "output_type": "stream",
     "text": [
      "tensor(276.3673)\n",
      "tensor(276.3673)\n"
     ]
    }
   ],
   "source": [
    "import torch\n",
    "from parnet.losses import MultinomialNLLLossFromLogits, multinomial_nll_loss\n",
    "\n",
    "l = MultinomialNLLLossFromLogits()\n",
    "\n",
    "y, y_pred = torch.randint(0, 10, size=(2, 7, 101), dtype=torch.float32), torch.rand(2, 7, 101, dtype=torch.float32)\n",
    "print(l(y, y_pred))\n",
    "print(multinomial_nll_loss(y, y_pred))"
   ]
  },
  {
   "cell_type": "code",
   "execution_count": null,
   "metadata": {},
   "outputs": [],
   "source": []
  },
  {
   "cell_type": "code",
   "execution_count": null,
   "metadata": {},
   "outputs": [],
   "source": []
  },
  {
   "cell_type": "code",
   "execution_count": null,
   "metadata": {},
   "outputs": [],
   "source": []
  },
  {
   "cell_type": "code",
   "execution_count": 11,
   "metadata": {},
   "outputs": [],
   "source": [
    "from parnet.data.datasets import TFIterableDataset, MaskedTFIterableDataset"
   ]
  },
  {
   "cell_type": "code",
   "execution_count": 12,
   "metadata": {},
   "outputs": [
    {
     "data": {
      "text/plain": [
       "tensor([[[0., 0., 0.,  ..., 0., 0., 0.],\n",
       "         [0., 0., 0.,  ..., 0., 0., 0.],\n",
       "         [0., 0., 0.,  ..., 0., 0., 0.],\n",
       "         ...,\n",
       "         [0., 0., 0.,  ..., 0., 0., 0.],\n",
       "         [0., 0., 0.,  ..., 0., 0., 0.],\n",
       "         [0., 0., 0.,  ..., 0., 0., 0.]],\n",
       "\n",
       "        [[0., 0., 0.,  ..., 0., 0., 0.],\n",
       "         [0., 0., 0.,  ..., 0., 0., 0.],\n",
       "         [0., 0., 0.,  ..., 0., 0., 0.],\n",
       "         ...,\n",
       "         [0., 0., 0.,  ..., 0., 0., 0.],\n",
       "         [0., 0., 0.,  ..., 0., 0., 0.],\n",
       "         [0., 0., 0.,  ..., 0., 0., 0.]],\n",
       "\n",
       "        [[0., 0., 0.,  ..., 0., 0., 0.],\n",
       "         [0., 0., 0.,  ..., 0., 0., 0.],\n",
       "         [0., 0., 0.,  ..., 0., 0., 0.],\n",
       "         ...,\n",
       "         [0., 0., 0.,  ..., 0., 0., 0.],\n",
       "         [0., 0., 0.,  ..., 0., 0., 0.],\n",
       "         [0., 0., 0.,  ..., 0., 0., 0.]],\n",
       "\n",
       "        [[0., 0., 0.,  ..., 0., 0., 0.],\n",
       "         [0., 0., 0.,  ..., 0., 0., 0.],\n",
       "         [0., 0., 0.,  ..., 0., 0., 0.],\n",
       "         ...,\n",
       "         [0., 0., 0.,  ..., 0., 0., 0.],\n",
       "         [0., 0., 0.,  ..., 0., 0., 0.],\n",
       "         [0., 0., 0.,  ..., 0., 0., 0.]]])"
      ]
     },
     "execution_count": 12,
     "metadata": {},
     "output_type": "execute_result"
    }
   ],
   "source": [
    "d = MaskedTFIterableDataset(mask_filepaths=['../example/experiment.masks/experiment-mask.K562.pt'], filepath='../example/data.matrix/head.tfrecord', batch_size=4, shuffle=1_000_000)\n",
    "next(iter(d))[1]['total']"
   ]
  },
  {
   "cell_type": "code",
   "execution_count": null,
   "metadata": {},
   "outputs": [],
   "source": []
  },
  {
   "cell_type": "code",
   "execution_count": null,
   "metadata": {},
   "outputs": [],
   "source": []
  },
  {
   "cell_type": "code",
   "execution_count": null,
   "metadata": {},
   "outputs": [],
   "source": []
  },
  {
   "cell_type": "code",
   "execution_count": 2,
   "metadata": {},
   "outputs": [
    {
     "name": "stderr",
     "output_type": "stream",
     "text": [
      "/home/marc/miniconda3/envs/torch/lib/python3.10/site-packages/tqdm/auto.py:22: TqdmWarning: IProgress not found. Please update jupyter and ipywidgets. See https://ipywidgets.readthedocs.io/en/stable/user_install.html\n",
      "  from .autonotebook import tqdm as notebook_tqdm\n"
     ]
    },
    {
     "data": {
      "text/plain": [
       "ParsedConfigFileIncludesAndImports(filename='../configs/config.gin', imports=['torch', 'pytorch_lightning', 'pytorch_lightning.loggers', 'parnet.networks', 'parnet.layers', 'parnet.metrics'], includes=[])"
      ]
     },
     "execution_count": 2,
     "metadata": {},
     "output_type": "execute_result"
    }
   ],
   "source": [
    "import gin\n",
    "gin.enter_interactive_mode()\n",
    "\n",
    "@gin.configurable()\n",
    "def train(**kwargs):\n",
    "    pass\n",
    "\n",
    "gin.parse_config_file('../configs/config.gin')"
   ]
  },
  {
   "cell_type": "code",
   "execution_count": 6,
   "metadata": {},
   "outputs": [
    {
     "data": {
      "text/plain": [
       "PanRBPNet(\n",
       "  (stem): StemConv1D(\n",
       "    (conv1d): Conv1d(4, 256, kernel_size=(7,), stride=(1,), padding=same)\n",
       "    (batch_norm): BatchNorm1d(256, eps=1e-05, momentum=0.1, affine=True, track_running_stats=True)\n",
       "    (act): ReLU()\n",
       "  )\n",
       "  (body): Conv1DTower(\n",
       "    (tower): Sequential(\n",
       "      (0): Sequential(\n",
       "        (0): ResConv1DBlock(\n",
       "          (conv1d): Conv1d(256, 256, kernel_size=(4,), stride=(1,), padding=same)\n",
       "          (batch_norm): BatchNorm1d(256, eps=1e-05, momentum=0.1, affine=True, track_running_stats=True)\n",
       "          (act): ReLU()\n",
       "          (dropout): Dropout1d(p=0.25, inplace=False)\n",
       "        )\n",
       "        (1): ResConv1DBlock(\n",
       "          (conv1d): Conv1d(256, 256, kernel_size=(4,), stride=(1,), padding=same)\n",
       "          (batch_norm): BatchNorm1d(256, eps=1e-05, momentum=0.1, affine=True, track_running_stats=True)\n",
       "          (act): ReLU()\n",
       "          (dropout): Dropout1d(p=0.25, inplace=False)\n",
       "        )\n",
       "        (2): ResConv1DBlock(\n",
       "          (conv1d): Conv1d(256, 256, kernel_size=(4,), stride=(1,), padding=same)\n",
       "          (batch_norm): BatchNorm1d(256, eps=1e-05, momentum=0.1, affine=True, track_running_stats=True)\n",
       "          (act): ReLU()\n",
       "          (dropout): Dropout1d(p=0.25, inplace=False)\n",
       "        )\n",
       "        (3): ResConv1DBlock(\n",
       "          (conv1d): Conv1d(256, 256, kernel_size=(4,), stride=(1,), padding=same)\n",
       "          (batch_norm): BatchNorm1d(256, eps=1e-05, momentum=0.1, affine=True, track_running_stats=True)\n",
       "          (act): ReLU()\n",
       "          (dropout): Dropout1d(p=0.25, inplace=False)\n",
       "        )\n",
       "        (4): ResConv1DBlock(\n",
       "          (conv1d): Conv1d(256, 256, kernel_size=(4,), stride=(1,), padding=same, dilation=(2,))\n",
       "          (batch_norm): BatchNorm1d(256, eps=1e-05, momentum=0.1, affine=True, track_running_stats=True)\n",
       "          (act): ReLU()\n",
       "          (dropout): Dropout1d(p=0.25, inplace=False)\n",
       "        )\n",
       "        (5): ResConv1DBlock(\n",
       "          (conv1d): Conv1d(256, 256, kernel_size=(4,), stride=(1,), padding=same, dilation=(3,))\n",
       "          (batch_norm): BatchNorm1d(256, eps=1e-05, momentum=0.1, affine=True, track_running_stats=True)\n",
       "          (act): ReLU()\n",
       "          (dropout): Dropout1d(p=0.25, inplace=False)\n",
       "        )\n",
       "      )\n",
       "      (1): Sequential(\n",
       "        (0): ResConv1DBlock(\n",
       "          (conv1d): Conv1d(256, 384, kernel_size=(4,), stride=(1,), padding=same, dilation=(3,))\n",
       "          (batch_norm): BatchNorm1d(384, eps=1e-05, momentum=0.1, affine=True, track_running_stats=True)\n",
       "          (act): ReLU()\n",
       "          (dropout): Dropout1d(p=0.25, inplace=False)\n",
       "          (linear): Conv1d(256, 384, kernel_size=(1,), stride=(1,), bias=False)\n",
       "        )\n",
       "        (1): ResConv1DBlock(\n",
       "          (conv1d): Conv1d(384, 384, kernel_size=(4,), stride=(1,), padding=same, dilation=(4,))\n",
       "          (batch_norm): BatchNorm1d(384, eps=1e-05, momentum=0.1, affine=True, track_running_stats=True)\n",
       "          (act): ReLU()\n",
       "          (dropout): Dropout1d(p=0.25, inplace=False)\n",
       "        )\n",
       "        (2): ResConv1DBlock(\n",
       "          (conv1d): Conv1d(384, 384, kernel_size=(4,), stride=(1,), padding=same, dilation=(5,))\n",
       "          (batch_norm): BatchNorm1d(384, eps=1e-05, momentum=0.1, affine=True, track_running_stats=True)\n",
       "          (act): ReLU()\n",
       "          (dropout): Dropout1d(p=0.25, inplace=False)\n",
       "        )\n",
       "      )\n",
       "    )\n",
       "  )\n",
       "  (pointwise): Pointwise(\n",
       "    (pointwise): Conv1d(384, 128, kernel_size=(1,), stride=(1,), bias=False)\n",
       "    (act): ReLU()\n",
       "  )\n",
       "  (output): IndexEmbeddingOutput(\n",
       "    (conv1d): Conv1d(128, 223, kernel_size=(1,), stride=(1,))\n",
       "  )\n",
       ")"
      ]
     },
     "execution_count": 6,
     "metadata": {},
     "output_type": "execute_result"
    }
   ],
   "source": [
    "network = parnet.networks.PanRBPNet()\n",
    "network"
   ]
  },
  {
   "cell_type": "code",
   "execution_count": 11,
   "metadata": {},
   "outputs": [
    {
     "data": {
      "text/plain": [
       "Conv1DTower(\n",
       "  (tower): Sequential(\n",
       "    (0): Sequential(\n",
       "      (0): ResConv1DBlock(\n",
       "        (conv1d): Conv1d(256, 256, kernel_size=(4,), stride=(1,), padding=same)\n",
       "        (batch_norm): BatchNorm1d(256, eps=1e-05, momentum=0.1, affine=True, track_running_stats=True)\n",
       "        (act): ReLU()\n",
       "        (dropout): Dropout1d(p=0.25, inplace=False)\n",
       "      )\n",
       "      (1): ResConv1DBlock(\n",
       "        (conv1d): Conv1d(256, 256, kernel_size=(4,), stride=(1,), padding=same)\n",
       "        (batch_norm): BatchNorm1d(256, eps=1e-05, momentum=0.1, affine=True, track_running_stats=True)\n",
       "        (act): ReLU()\n",
       "        (dropout): Dropout1d(p=0.25, inplace=False)\n",
       "      )\n",
       "      (2): ResConv1DBlock(\n",
       "        (conv1d): Conv1d(256, 256, kernel_size=(4,), stride=(1,), padding=same)\n",
       "        (batch_norm): BatchNorm1d(256, eps=1e-05, momentum=0.1, affine=True, track_running_stats=True)\n",
       "        (act): ReLU()\n",
       "        (dropout): Dropout1d(p=0.25, inplace=False)\n",
       "      )\n",
       "      (3): ResConv1DBlock(\n",
       "        (conv1d): Conv1d(256, 256, kernel_size=(4,), stride=(1,), padding=same)\n",
       "        (batch_norm): BatchNorm1d(256, eps=1e-05, momentum=0.1, affine=True, track_running_stats=True)\n",
       "        (act): ReLU()\n",
       "        (dropout): Dropout1d(p=0.25, inplace=False)\n",
       "      )\n",
       "      (4): ResConv1DBlock(\n",
       "        (conv1d): Conv1d(256, 256, kernel_size=(4,), stride=(1,), padding=same, dilation=(2,))\n",
       "        (batch_norm): BatchNorm1d(256, eps=1e-05, momentum=0.1, affine=True, track_running_stats=True)\n",
       "        (act): ReLU()\n",
       "        (dropout): Dropout1d(p=0.25, inplace=False)\n",
       "      )\n",
       "      (5): ResConv1DBlock(\n",
       "        (conv1d): Conv1d(256, 256, kernel_size=(4,), stride=(1,), padding=same, dilation=(3,))\n",
       "        (batch_norm): BatchNorm1d(256, eps=1e-05, momentum=0.1, affine=True, track_running_stats=True)\n",
       "        (act): ReLU()\n",
       "        (dropout): Dropout1d(p=0.25, inplace=False)\n",
       "      )\n",
       "    )\n",
       "    (1): Sequential(\n",
       "      (0): ResConv1DBlock(\n",
       "        (conv1d): Conv1d(256, 384, kernel_size=(4,), stride=(1,), padding=same, dilation=(3,))\n",
       "        (batch_norm): BatchNorm1d(384, eps=1e-05, momentum=0.1, affine=True, track_running_stats=True)\n",
       "        (act): ReLU()\n",
       "        (dropout): Dropout1d(p=0.25, inplace=False)\n",
       "        (linear): Conv1d(256, 384, kernel_size=(1,), stride=(1,), bias=False)\n",
       "      )\n",
       "      (1): ResConv1DBlock(\n",
       "        (conv1d): Conv1d(384, 384, kernel_size=(4,), stride=(1,), padding=same, dilation=(4,))\n",
       "        (batch_norm): BatchNorm1d(384, eps=1e-05, momentum=0.1, affine=True, track_running_stats=True)\n",
       "        (act): ReLU()\n",
       "        (dropout): Dropout1d(p=0.25, inplace=False)\n",
       "      )\n",
       "      (2): ResConv1DBlock(\n",
       "        (conv1d): Conv1d(384, 384, kernel_size=(4,), stride=(1,), padding=same, dilation=(5,))\n",
       "        (batch_norm): BatchNorm1d(384, eps=1e-05, momentum=0.1, affine=True, track_running_stats=True)\n",
       "        (act): ReLU()\n",
       "        (dropout): Dropout1d(p=0.25, inplace=False)\n",
       "      )\n",
       "    )\n",
       "  )\n",
       ")"
      ]
     },
     "execution_count": 11,
     "metadata": {},
     "output_type": "execute_result"
    }
   ],
   "source": [
    "list(network.children())[-3]"
   ]
  }
 ],
 "metadata": {
  "kernelspec": {
   "display_name": "torch",
   "language": "python",
   "name": "python3"
  },
  "language_info": {
   "codemirror_mode": {
    "name": "ipython",
    "version": 3
   },
   "file_extension": ".py",
   "mimetype": "text/x-python",
   "name": "python",
   "nbconvert_exporter": "python",
   "pygments_lexer": "ipython3",
   "version": "3.10.9"
  },
  "orig_nbformat": 4,
  "vscode": {
   "interpreter": {
    "hash": "7c2a629b5d736a8b2a3c0111829bdedfa4bd0b48e49067d38bd73bb54a8250f9"
   }
  }
 },
 "nbformat": 4,
 "nbformat_minor": 2
}
